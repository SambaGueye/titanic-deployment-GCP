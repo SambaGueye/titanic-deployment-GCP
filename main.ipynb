{
 "cells": [
  {
   "cell_type": "code",
   "execution_count": 23,
   "metadata": {},
   "outputs": [],
   "source": [
    "import pandas as pd\n",
    "import numpy as np"
   ]
  },
  {
   "cell_type": "code",
   "execution_count": 24,
   "metadata": {},
   "outputs": [],
   "source": [
    "# import google.cloud.bigquery.client as client\n",
    "from google.cloud import bigquery\n",
    "import os\n",
    "\n",
    "# os.environ[\"GOOGLE_APPLICATION_CREDENTIALS\"] = \"C:\\Users\\Samba GUEYE\\Downloads\\dev-project-360718-cb2cbff96ab3.json\"\n",
    "bigquery_client = bigquery.Client(project='dev-project-360718')"
   ]
  },
  {
   "cell_type": "code",
   "execution_count": 25,
   "metadata": {},
   "outputs": [],
   "source": [
    "def query_load(client, query, destination_table):\n",
    "    \n",
    "    # client = self.bigquery_client()\n",
    "    job_config = bigquery.QueryJobConfig(\n",
    "        write_disposition=\"WRITE_TRUNCATE\", #WRITE_APPEND\n",
    "        destination=destination_table,\n",
    "    )\n",
    "    query_job = client.query(\n",
    "        query=query,\n",
    "        job_config=job_config,\n",
    "    )\n",
    "    return query_job"
   ]
  },
  {
   "cell_type": "code",
   "execution_count": 26,
   "metadata": {},
   "outputs": [],
   "source": [
    "# target_scopes = ['https://www.googleapis.com/auth/bigquery',\n",
    "#     'https://www.googleapis.com/auth/cloud-platform']\n",
    "# source_credentials =  google.auth.default(scopes=target_scopes)\n",
    "\n",
    "# target_credentials = impersonated_credentials.Credentials(\n",
    "# source_credentials=source_credentials[0],\n",
    "# target_principal='deployment@dev-project-360718.iam.gserviceaccount.com',\n",
    "# target_scopes=target_scopes,\n",
    "# lifetime=3600)\n",
    "# client = bigquery.Client(credentials=target_credentials)"
   ]
  },
  {
   "cell_type": "code",
   "execution_count": null,
   "metadata": {},
   "outputs": [],
   "source": [
    "query = \"\"\"\n",
    "select * from `dev-project-360718.titanic_dataset.titanic`\n",
    "where Survived=1\n",
    "\"\"\""
   ]
  }
 ],
 "metadata": {
  "kernelspec": {
   "display_name": "Python 3.10.1 64-bit",
   "language": "python",
   "name": "python3"
  },
  "language_info": {
   "codemirror_mode": {
    "name": "ipython",
    "version": 3
   },
   "file_extension": ".py",
   "mimetype": "text/x-python",
   "name": "python",
   "nbconvert_exporter": "python",
   "pygments_lexer": "ipython3",
   "version": "3.10.1"
  },
  "orig_nbformat": 4,
  "vscode": {
   "interpreter": {
    "hash": "d1c9f94592f5989deb0a4000c7d80da668eda18957a9beb0ded19f3772185795"
   }
  }
 },
 "nbformat": 4,
 "nbformat_minor": 2
}
